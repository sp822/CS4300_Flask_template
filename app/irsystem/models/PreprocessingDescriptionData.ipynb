{
 "cells": [
  {
   "cell_type": "code",
   "execution_count": 2,
   "metadata": {
    "collapsed": true
   },
   "outputs": [],
   "source": [
    "import pandas as pd\n",
    "import requests\n",
    "import re\n",
    "import string\n",
    "from operator import itemgetter\n",
    "from nltk.stem import PorterStemmer\n",
    "from __future__ import print_function\n",
    "from sklearn.feature_extraction.text import TfidfVectorizer\n",
    "import numpy as np"
   ]
  },
  {
   "cell_type": "code",
   "execution_count": 3,
   "metadata": {
    "collapsed": true
   },
   "outputs": [],
   "source": [
    "def cleanhtml(raw_html):\n",
    "    clean = re.compile('<.*?>')\n",
    "    cleantext = re.sub(clean, '', raw_html)\n",
    "    return cleantext"
   ]
  },
  {
   "cell_type": "code",
   "execution_count": 11,
   "metadata": {
    "collapsed": true
   },
   "outputs": [],
   "source": [
    "def tokenize(text):\n",
    "    \"\"\"Returns a list of words that make up the text.    \n",
    "    Params: {text: String}\n",
    "    Returns: List\n",
    "    \"\"\"\n",
    "    return list(filter(str.strip, list(map(lambda x: x, re.findall(r'[a-zA-Z]*', text)))))"
   ]
  },
  {
   "cell_type": "code",
   "execution_count": 12,
   "metadata": {
    "collapsed": true
   },
   "outputs": [],
   "source": [
    "def stem(text):\n",
    "    stemmer=PorterStemmer()\n",
    "    stems = [stemmer.stem(w) for w in tokenize(text)]\n",
    "    return \" \".join(stems)"
   ]
  },
  {
   "cell_type": "code",
   "execution_count": 13,
   "metadata": {
    "collapsed": true
   },
   "outputs": [],
   "source": [
    "def preprocess_text(text):\n",
    "    text = str(text)\n",
    "    text = cleanhtml(text)\n",
    "    text = text.lower()\n",
    "    text = text.translate(str.maketrans('', '', string.punctuation))\n",
    "    text = text.strip()\n",
    "    return text"
   ]
  },
  {
   "cell_type": "code",
   "execution_count": 14,
   "metadata": {
    "collapsed": true
   },
   "outputs": [],
   "source": [
    "def preprocess(data):\n",
    "    for (index,value) in data['Summary'].items():\n",
    "        value = preprocess_text(value)\n",
    "        value = stem(value)\n",
    "        data.loc[index,'Summary'] = value\n",
    "    return data"
   ]
  },
  {
   "cell_type": "code",
   "execution_count": 16,
   "metadata": {
    "collapsed": true
   },
   "outputs": [],
   "source": [
    "n_feats = 5000\n",
    "doc_by_vocab = np.empty([len(data), n_feats])"
   ]
  },
  {
   "cell_type": "code",
   "execution_count": 18,
   "metadata": {},
   "outputs": [
    {
     "name": "stderr",
     "output_type": "stream",
     "text": [
      "/Users/sophiezhao/venv/lib/python3.5/site-packages/sklearn/feature_extraction/text.py:1039: FutureWarning: Conversion of the second argument of issubdtype from `float` to `np.floating` is deprecated. In future, it will be treated as `np.float64 == np.dtype(float).type`.\n",
      "  if hasattr(X, 'dtype') and np.issubdtype(X.dtype, np.float):\n"
     ]
    }
   ],
   "source": [
    "def build_vectorizer(max_features, stop_words, max_df=0.8, min_df=10, norm='l2'):\n",
    "    \"\"\"Returns a TfidfVectorizer object with the above preprocessing properties.\n",
    "    \n",
    "    Params: {max_features: Integer,\n",
    "             max_df: Float,\n",
    "             min_df: Float,\n",
    "             norm: String,\n",
    "             stop_words: String}\n",
    "    Returns: TfidfVectorizer\n",
    "    \"\"\"\n",
    "    \n",
    "    result = TfidfVectorizer(max_features = max_features, stop_words = stop_words, max_df = max_df, min_df = min_df, norm = norm)\n",
    "    return result\n",
    "\n",
    "data = preprocess(data)\n",
    "tfidf_vec = build_vectorizer(n_feats, \"english\")\n",
    "doc_by_vocab = tfidf_vec.fit_transform([value for _,value in data['Summary'].items()]).toarray()\n",
    "index_to_vocab = {i:v for i, v in enumerate(tfidf_vec.get_feature_names())}\n",
    "movie_index_to_name = data['Title'].to_dict()\n",
    "movie_name_to_index = {v: k for k, v in movie_index_to_name.items()}\n",
    "num_movies = len(data)"
   ]
  },
  {
   "cell_type": "code",
   "execution_count": 19,
   "metadata": {
    "collapsed": true
   },
   "outputs": [],
   "source": [
    "def get_sim(mov1, mov2, input_doc_mat, movie_name_to_index):\n",
    "    \"\"\"Returns a float giving the cosine similarity of \n",
    "       the two movie transcripts.\n",
    "    \n",
    "    Params: {mov1: String,\n",
    "             mov2: String,\n",
    "             input_doc_mat: Numpy Array,\n",
    "             movie_name_to_index: Dict}\n",
    "    Returns: Float (Cosine similarity of the two movie transcripts.)\n",
    "    \"\"\"\n",
    "    idx1 = movie_name_to_index[mov1]\n",
    "    idx2 = movie_name_to_index[mov2]\n",
    "    movie1 = input_doc_mat[idx1,]\n",
    "    movie2 = input_doc_mat[idx2,]\n",
    "    dot_product = np.dot(movie1, movie2)\n",
    "    return dot_product"
   ]
  },
  {
   "cell_type": "code",
   "execution_count": 2,
   "metadata": {},
   "outputs": [
    {
     "name": "stderr",
     "output_type": "stream",
     "text": [
      "/Users/sophiezhao/venv/lib/python3.5/site-packages/sklearn/feature_extraction/text.py:1039: FutureWarning: Conversion of the second argument of issubdtype from `float` to `np.floating` is deprecated. In future, it will be treated as `np.float64 == np.dtype(float).type`.\n",
      "  if hasattr(X, 'dtype') and np.issubdtype(X.dtype, np.float):\n"
     ]
    }
   ],
   "source": [
    "def build_movie_sims_cos(n_mov, movie_index_to_name, input_doc_mat, movie_name_to_index, input_get_sim_method):\n",
    "    \"\"\"Returns a movie_sims matrix of size (num_movies,num_movies) where for (i,j):\n",
    "        [i,j] should be the cosine similarity between the movie with index i and the movie with index j\n",
    "    \n",
    "    Params: {n_mov: Integer,\n",
    "             movie_index_to_name: Dict,\n",
    "             input_doc_mat: Numpy Array,\n",
    "             movie_name_to_index: Dict,\n",
    "             input_get_sim_method: Function}\n",
    "    Returns: Numpy Array\n",
    "    \"\"\"\n",
    "    result = np.zeros((n_mov, n_mov))\n",
    "    for i in range(n_mov):\n",
    "        for j in range(n_mov):\n",
    "            if i == j:\n",
    "                result[i,j] = 0\n",
    "            else:\n",
    "                mov1 = movie_index_to_name[i]\n",
    "                mov2 = movie_index_to_name[j]\n",
    "                result[i,j] = input_get_sim_method(mov1, mov2, input_doc_mat, movie_name_to_index)\n",
    "    \n",
    "            \n",
    "    return result\n"
   ]
  },
  {
   "cell_type": "code",
   "execution_count": 111,
   "metadata": {
    "scrolled": true
   },
   "outputs": [
    {
     "name": "stdout",
     "output_type": "stream",
     "text": [
      "                     Drama_Title  Summary_Similarity  Genre_Similarity  \\\n",
      "667                     Stranger            0.432997               1.0   \n",
      "415          Sweet Savage Family            0.276500               1.0   \n",
      "722          The Queen of Office            0.237680               1.0   \n",
      "824           The Wedding Scheme            0.218926               1.0   \n",
      "242        Bad Thief, Good Thief            0.212300               1.0   \n",
      "312                  Be Positive            0.212232               1.0   \n",
      "428             You Will Love Me            0.210892               1.0   \n",
      "498                    The Lover            0.208423               1.0   \n",
      "333  Cinderella and Four Knights            0.207837               1.0   \n",
      "32              The Best Chicken            0.205444               1.0   \n",
      "\n",
      "     Network_Similarity     Total  \n",
      "667                   0  1.432997  \n",
      "415                   0  1.276500  \n",
      "722                   0  1.237680  \n",
      "824                   0  1.218926  \n",
      "242                   0  1.212300  \n",
      "312                   0  1.212232  \n",
      "428                   0  1.210892  \n",
      "498                   0  1.208423  \n",
      "333                   0  1.207837  \n",
      "32                    0  1.205444  \n"
     ]
    }
   ],
   "source": [
    "movie_sims_cos = build_movie_sims_cos(num_movies, movie_index_to_name, doc_by_vocab, movie_name_to_index, get_sim)\n",
    "print(movie_sims_cos)"
   ]
  },
  {
   "cell_type": "code",
   "execution_count": 193,
   "metadata": {
    "scrolled": true
   },
   "outputs": [
    {
     "data": {
      "text/html": [
       "<div>\n",
       "<style>\n",
       "    .dataframe thead tr:only-child th {\n",
       "        text-align: right;\n",
       "    }\n",
       "\n",
       "    .dataframe thead th {\n",
       "        text-align: left;\n",
       "    }\n",
       "\n",
       "    .dataframe tbody tr th {\n",
       "        vertical-align: top;\n",
       "    }\n",
       "</style>\n",
       "<table border=\"1\" class=\"dataframe\">\n",
       "  <thead>\n",
       "    <tr style=\"text-align: right;\">\n",
       "      <th></th>\n",
       "      <th>Drama_Title</th>\n",
       "      <th>Summary_Similarity</th>\n",
       "      <th>Genre_Similarity</th>\n",
       "      <th>Network_Similarity</th>\n",
       "      <th>Total</th>\n",
       "    </tr>\n",
       "  </thead>\n",
       "  <tbody>\n",
       "    <tr>\n",
       "      <th>1111</th>\n",
       "      <td>General Hospital 2</td>\n",
       "      <td>0</td>\n",
       "      <td>1.0</td>\n",
       "      <td>0</td>\n",
       "      <td>1.0</td>\n",
       "    </tr>\n",
       "    <tr>\n",
       "      <th>1431</th>\n",
       "      <td>Baekmansongi Jangmi / One Million Roses</td>\n",
       "      <td>0</td>\n",
       "      <td>0.5</td>\n",
       "      <td>0</td>\n",
       "      <td>0.5</td>\n",
       "    </tr>\n",
       "    <tr>\n",
       "      <th>833</th>\n",
       "      <td>Immortal Classic</td>\n",
       "      <td>0</td>\n",
       "      <td>0.5</td>\n",
       "      <td>0</td>\n",
       "      <td>0.5</td>\n",
       "    </tr>\n",
       "    <tr>\n",
       "      <th>1171</th>\n",
       "      <td>Before and After: Plastic Surgery Clinic</td>\n",
       "      <td>0</td>\n",
       "      <td>0.5</td>\n",
       "      <td>0</td>\n",
       "      <td>0.5</td>\n",
       "    </tr>\n",
       "    <tr>\n",
       "      <th>966</th>\n",
       "      <td>Gwaenchanha, Appa Ttal / Itâ€™s Okay, Daddyâ€™...</td>\n",
       "      <td>0</td>\n",
       "      <td>0.5</td>\n",
       "      <td>0</td>\n",
       "      <td>0.5</td>\n",
       "    </tr>\n",
       "    <tr>\n",
       "      <th>1288</th>\n",
       "      <td>The Invisible Man</td>\n",
       "      <td>0</td>\n",
       "      <td>0.5</td>\n",
       "      <td>0</td>\n",
       "      <td>0.5</td>\n",
       "    </tr>\n",
       "    <tr>\n",
       "      <th>1301</th>\n",
       "      <td>Dr. Gang</td>\n",
       "      <td>0</td>\n",
       "      <td>0.5</td>\n",
       "      <td>0</td>\n",
       "      <td>0.5</td>\n",
       "    </tr>\n",
       "    <tr>\n",
       "      <th>1430</th>\n",
       "      <td>Yo-jo-suk-nyeo / My Fair Lady</td>\n",
       "      <td>0</td>\n",
       "      <td>0.5</td>\n",
       "      <td>0</td>\n",
       "      <td>0.5</td>\n",
       "    </tr>\n",
       "    <tr>\n",
       "      <th>1328</th>\n",
       "      <td>My Rosy Life</td>\n",
       "      <td>0</td>\n",
       "      <td>0.5</td>\n",
       "      <td>0</td>\n",
       "      <td>0.5</td>\n",
       "    </tr>\n",
       "    <tr>\n",
       "      <th>774</th>\n",
       "      <td>The 3rd Hospital</td>\n",
       "      <td>0</td>\n",
       "      <td>0.5</td>\n",
       "      <td>0</td>\n",
       "      <td>0.5</td>\n",
       "    </tr>\n",
       "  </tbody>\n",
       "</table>\n",
       "</div>"
      ],
      "text/plain": [
       "                                            Drama_Title  Summary_Similarity  \\\n",
       "1111                                 General Hospital 2                   0   \n",
       "1431            Baekmansongi Jangmi / One Million Roses                   0   \n",
       "833                                    Immortal Classic                   0   \n",
       "1171           Before and After: Plastic Surgery Clinic                   0   \n",
       "966   Gwaenchanha, Appa Ttal / Itâ€™s Okay, Daddyâ€™...                   0   \n",
       "1288                                  The Invisible Man                   0   \n",
       "1301                                           Dr. Gang                   0   \n",
       "1430                      Yo-jo-suk-nyeo / My Fair Lady                   0   \n",
       "1328                                       My Rosy Life                   0   \n",
       "774                                    The 3rd Hospital                   0   \n",
       "\n",
       "      Genre_Similarity  Network_Similarity  Total  \n",
       "1111               1.0                   0    1.0  \n",
       "1431               0.5                   0    0.5  \n",
       "833                0.5                   0    0.5  \n",
       "1171               0.5                   0    0.5  \n",
       "966                0.5                   0    0.5  \n",
       "1288               0.5                   0    0.5  \n",
       "1301               0.5                   0    0.5  \n",
       "1430               0.5                   0    0.5  \n",
       "1328               0.5                   0    0.5  \n",
       "774                0.5                   0    0.5  "
      ]
     },
     "execution_count": 193,
     "metadata": {},
     "output_type": "execute_result"
    }
   ],
   "source": [
    "def best_match(n_mov, movie_sims_cos, data, movie_index_to_name, movie_name_to_index, dramas_enjoyed, dramas_disliked, preferred_genres, preferred_network, num_results):\n",
    "    feature_list = ['Summary_Similarity', 'Genre_Similarity', 'Network_Similarity', 'Total']\n",
    "    result = pd.DataFrame(0, index=np.arange(n_mov), columns=feature_list)\n",
    "    genres = set()\n",
    "    preferred_genres = [preprocess_text(value) for value in preferred_genres]\n",
    "    genres.update(preferred_genres)\n",
    "    for drama in dramas_enjoyed:\n",
    "        if drama in movie_name_to_index.keys():\n",
    "            index = movie_name_to_index[drama]\n",
    "            sim = movie_sims_cos[index,:]\n",
    "            result['Summary_Similarity']+= pd.Series(sim)\n",
    "            \n",
    "    for drama in dramas_disliked:\n",
    "        if drama in movie_name_to_index.keys():\n",
    "            index = movie_name_to_index[drama]\n",
    "            sim = movie_sims_cos[index,:]\n",
    "            result['Summary_Similarity']-= pd.Series(sim)\n",
    "            \n",
    "    for index, value in data.iterrows():\n",
    "        gen = str(value['Genre'])\n",
    "        gen = preprocess_text(gen)\n",
    "        drama_genres = set()\n",
    "        drama_genres.update(gen.split())\n",
    "        result.loc[index,'Genre_Similarity'] = len(genres.intersection(drama_genres))/len(genres.union(drama_genres))\n",
    "        if preferred_network == data.iloc[index]['Network']:\n",
    "            result['Network_Similarity']+=1\n",
    "    result['Total'] = result.sum(axis = 1)\n",
    "    result = result.sort_values(by='Total', ascending=False)\n",
    "    result = result[:num_results]\n",
    "    indices =  result.index.tolist()\n",
    "    best_dramas = pd.Series([movie_index_to_name[index] for index in indices],index = result.index)\n",
    "    result.insert(loc=0, column='Drama_Title', value=best_dramas)\n",
    "    result.reset_index()\n",
    "    return result\n",
    "\n",
    "\n",
    "best_match(num_movies, movie_sims_cos, data, movie_index_to_name, movie_name_to_index, ['Legend of the Blue Sea'], [], [\"drama\", 'Medical'], [], 10)      \n"
   ]
  },
  {
   "cell_type": "code",
   "execution_count": 228,
   "metadata": {
    "collapsed": true,
    "scrolled": true
   },
   "outputs": [],
   "source": [
    "def display (n_mov, movie_sims_cos, data, movie_index_to_name, movie_name_to_index, dramas_enjoyed, dramas_disliked, preferred_genres, preferred_network, num_results):\n",
    "    dramas_enjoyed = dramas_enjoyed.split(', ')\n",
    "    print(dramas_enjoyed)\n",
    "    dramas_disliked = dramas_disliked.split(', ')\n",
    "    preferred_genres = preferred_genres.split(', ')\n",
    "    print(preferred_genres)\n",
    "    preferred_network = preferred_network.split(', ')\n",
    "    print(preferred_network)\n",
    "    best = best_match(n_mov, movie_sims_cos, data, movie_index_to_name, movie_name_to_index, dramas_enjoyed, dramas_disliked, preferred_genres, preferred_network, num_results)\n",
    "    title = list(zip(best['Drama_Title'], best[\"Total\"]))\n",
    "    final = {}\n",
    "    for x in title:\n",
    "        title_name = x[0]\n",
    "        final.update({x[0]: ''})\n",
    "        final[title_name] += data['Summary'][list(data['Title']).index(title_name)]\n",
    "    return ['Drama Title: {},  Summary: {},  Score: {}'.format(x[0], final[x[0]], x[1]) for x in title]"
   ]
  },
  {
   "cell_type": "code",
   "execution_count": 229,
   "metadata": {},
   "outputs": [
    {
     "name": "stdout",
     "output_type": "stream",
     "text": [
      "['Doctors', 'Doctor Stranger']\n",
      "['comedy', 'medical']\n",
      "['']\n"
     ]
    },
    {
     "data": {
      "text/plain": [
       "['Drama Title: Golden Time,  Summary: thi drama is set within the backdrop of an emerg room at a hospitalth one hour you have to save a person s life after a traumat injuri is what emerg physician call golden time lee min woo lee sun gyun learn thi all too quickli as he start work as an emerg physician at an urban hospit kang jae in hwang jung eum is a first year resid who discov that she is the heiress to a foundat that own the hospit can they learn to becom great doctor from dr choi in hyuk lee sung min a renown trauma surgeon who put hi patient befor everyth els in hi life,  Score: 0.966399020676921',\n",
       " 'Drama Title: Emergency Man and Woman,  Summary: a romant comedi about a coupl who marri dure medic school but due to their clash person divorc soon afterward they are reunit year later as intern at a hospit will love strike again for the twojin hee song ji hyo had a good life as a dietitian when she met medic school student chang min choi jin hyuk chang min come from a wealthi famili full of doctor who where against their marriag but the two decid to get marri anyway he gave up hi medic internship to work as a pharmaceut salesman their marriag isn t a happi one and they decid to get a divorc sinc hi famili kept look down on jin hee and even chang min start to chang after their divorc both of them graduat from medic school and work as an intern one day they meet in the emerg room for a hospit where they both have their medic internship,  Score: 0.9166374308189303',\n",
       " 'Drama Title: Heart to Heart,  Summary: cha hong do choi kang hee suffer from social phobia and ha a problem with sever blush she doe have a strong sens of curios and learn from book and the internet one day cha hong do s grandmoth die her grandmoth wa her onli contact to the outsid world cha hong do then begin do housework as a maid but disguis herself as an elderli woman through an incid she meet a psychiatrist go yi suk chun jung myung,  Score: 0.8865865176251356',\n",
       " 'Drama Title: Deserving of the Name,  Summary: the stori of a doctor from joseon era who travel year into the futur where he met a coldheart modern practitionerheo im kim nam gil is an orient doctor acknowledg as the best in acupunctur and moxibust in joseon hi success is block due to hi statu as the son of a concubin one day heo im travel though time and find himself in present day seoul he then meet choi yeon kyung kim ah joong who is firmli onli believ in modern medicinecast joseon erahyeminseo clinickim nam gil as heo im moon woo jin as heo im child shin rin ah as yeon yi moon ga young as gong mak gae kim byung choon as kwon ji oh dae hwan as doo chil jin sun kyu as yun yi s father takeda hiromitsu as sayaga kim choong sun choi jae sup as ddak saepalaceahn suk hwan as minist of war jo seung yun as king sun jo maeng sang hoon as yoo chan sung yoo min kyu as yoo jin oh jang woo hyuk as choong hoothersuhm hyo sup as heo jun kwon hyuk as goo ji woong byun woo suk as black man cha soon hyung as suzuki park min soo as kangcast presentshinhy hospitalkim ah joong as choi yeon kyung uhm chae young as choi yeon kyung child noh jung ui as oh ha ra ahn suk hwan as shin myung hoon lee dae yeon as professor hwang lee jae won as kang man soo sung joo as kim min jae seo jung yeon as jung yi yun oh jung sook as soo ho lee bo yun as nurs kimhyeminseo clinicyoon joo sang as choi cheon sool tae hang ho as min byung ki min ji ah as jun jae sookshinhy orient hospitalyoo min kyu as yoo jae ha choi seung hoon as jae ha young kim myung gon as ma sung tae lee jae kyoon as jin young hoon kim jung hwan as sung tae s secretaryotherskim young sun as psychiatrist han hee jung as guid ha ra kim hye eun as ha ra s mother cameo kwon tae won as ceo min cameo kim jong goo as ceo parkproduct creditsdirector hong jong chan scriptwrit kim eun heeepisod ratingsdateepisodeagbtnm sourc tnm media korea amp agb nielsen korea nationwid differ between tnm media korea amp agb nielson here note thi drama is air on paytv channel which ha fewer viewer than freetv channel so pleas don t be surpris with the low rate poster relat photooth photo from offici site offici sitetrail offici trailer trailer i trailer ii trailer iii trailer iv trailer v trailer viwatch onlin in vikicomshar thisclick to share on facebook open in new windowclick to share on twitter open in new window,  Score: 0.8437880548076003',\n",
       " 'Drama Title: Life,  Summary: thi drama tell the stori of the power struggl in a hospitaly jin woo lee dong wook is a doctor in the emerg medic center at sangkook univers hospit meanwhil goo seung hyo cho seung woo is the presid at sangkook univers hospit one is a warm heart doctor but anoth one is cool heart presid,  Score: 0.7888586814363907',\n",
       " 'Drama Title: A Poem a Day,  Summary: the stori of live of peopl who work at the hospit like physic therapist rehabilit therapist radiologist nurs medic traine and morey jae wook lee joon hyuk work as a physic therapist and also teach in the same field he begin to work as a team leader at a hospit woo bo young lee yoo bi ha been work as a physic therapist for year she want to becom a poet but due to her poor famili background she studi to becom a physic therapist shin min ho jang dong yoon is a traine but he isn t interest in physic therapi hi grade weren t good enough for medic school and hi parent who are both doctor made him studi physic therapi,  Score: 0.7847812771878924',\n",
       " 'Drama Title: Stranger,  Summary: is it possibl to experi total alien in a countri full of peopl who look like youle young ho jung eun woo is a youg man who is from a highclass famili in north korea but he cross over to south korea to complet a mission when he get into a car accid he find that he is stuck live in thi new countri can he navig hi new life of alien in the south,  Score: 0.7663299825396421',\n",
       " 'Drama Title: Cute or Crazy,  Summary: park kyung rim is an art galleri curat who live with her older brother seung soo an english teacher and her friend so yoo jin kyung rim work for kim soo mi who coown the galleri with her husband chairman kim the kim have three son the youngest of whom min hyuk is a troublemak and gadabout park shin hye is a young student at seung soo s english school,  Score: 0.7555331943556618',\n",
       " 'Drama Title: Kill Me, Heal Me,  Summary: a romant comedi about a thirdgener billionnair with dissoci ident disord and a firstyear psychiatrist resid who treat him secretlycha do hyun ji sung is the third gener of a chaebol famili who suffer from multipl person disord after go through numer lifethreaten trauma as he tri to get back on hi life on the track with the help of a resid doctor oh ri jin hwang jung eum the seven peopl whom he creat in hi bodi began their battl to be the final dictat that will have control over hi lifemeanwhil oh ri on park seo joon is oh ri jin s twin brother who is a geniu writer he is determin to find out the secret and stori of thi third gener chaebol start follow him around to uncov them but unexpectedli form an empathi for him instead,  Score: 0.7437056384942428',\n",
       " 'Drama Title: Before and After: Plastic Surgery Clinic,  Summary: han geon soo is the young clinic owner who tri to protect hi clinic from be taken over by loan shark he tri hi best to save the clinic when uncollect loan are pass on to him after hi father s sudden death choi yong woo is a talent doctor who join the clinic to return hi thank to geon soo s father yong woo is someon that often get into argument with patient who want to undergo unnecessari plastic surgeri yoon ki nam is the nurs who form a love triangl between the two men yoon seo jin is the manag who obtain her perfect beauti through plastic surgeri,  Score: 0.7425579797581201']"
      ]
     },
     "execution_count": 229,
     "metadata": {},
     "output_type": "execute_result"
    }
   ],
   "source": [
    "display(num_movies, movie_sims_cos, data, movie_index_to_name, movie_name_to_index, \"Doctors, Doctor Stranger\", 'black', \"comedy, medical\", '', 10)\n",
    "# print(best_match(num_movies, movie_sims_cos, data, movie_index_to_name, movie_name_to_index, [\"Doctors\", \"Doctor Stranger\"], [\"black\"], [\"comedy\", 'Medical'], [], 10))     \n"
   ]
  },
  {
   "cell_type": "code",
   "execution_count": 212,
   "metadata": {},
   "outputs": [
    {
     "data": {
      "text/plain": [
       "'due to variou person reason a group of yun tae oh ji soo s friend move into hi hous where they experi love friendship and everyth in between'"
      ]
     },
     "execution_count": 212,
     "metadata": {},
     "output_type": "execute_result"
    }
   ],
   "source": [
    "data['Summary'][list(data['Title']).index(\"My First First Love\")]"
   ]
  },
  {
   "cell_type": "code",
   "execution_count": null,
   "metadata": {
    "collapsed": true
   },
   "outputs": [],
   "source": []
  }
 ],
 "metadata": {
  "kernelspec": {
   "display_name": "Python 3",
   "language": "python",
   "name": "python3"
  },
  "language_info": {
   "codemirror_mode": {
    "name": "ipython",
    "version": 3
   },
   "file_extension": ".py",
   "mimetype": "text/x-python",
   "name": "python",
   "nbconvert_exporter": "python",
   "pygments_lexer": "ipython3",
   "version": "3.6.1"
  }
 },
 "nbformat": 4,
 "nbformat_minor": 2
}
