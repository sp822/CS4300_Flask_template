{
 "cells": [
  {
   "cell_type": "markdown",
   "metadata": {},
   "source": [
    "## HTML Extraction From Viki TV Website\n",
    "**Author: Christopher Elliott**\n",
    "\n",
    "**Team: KDramaQueen**\n",
    "\n",
    "**March 24th 2019**"
   ]
  },
  {
   "cell_type": "code",
   "execution_count": 1,
   "metadata": {},
   "outputs": [],
   "source": [
    "import bs4\n",
    "from bs4 import BeautifulStoneSoup\n",
    "import pandas as pd\n",
    "import pickle"
   ]
  },
  {
   "cell_type": "code",
   "execution_count": 2,
   "metadata": {},
   "outputs": [],
   "source": [
    "def extract_data(html):\n",
    "    \"\"\" Extracts show data from viki TV HTML files\n",
    "    and returns a dictonary with the Show Name as a key\n",
    "    \n",
    "    RETURNS: dict \n",
    "    \"\"\"\n",
    "    #Open File\n",
    "    File = open(html+\".html\",encoding=\"Latin-1\")\n",
    "    soup = bs4.BeautifulSoup(File,'html.parser')\n",
    "    titles = soup.find_all('a',\"thumb-title strong\")\n",
    "    reviews = soup.find_all('span',\"review-rating\")\n",
    "    num_reviews = soup.find_all(\"span\", \"caption info\")\n",
    "    \n",
    "    if html == '32':\n",
    "        del(titles[10])\n",
    "    \n",
    "    assert len(reviews) == len(titles)\n",
    "    title_names ={}\n",
    "    review = []\n",
    "    \n",
    "    #Data Extraction\n",
    "    for i in range(0,len(titles)):\n",
    "        # Title Extraction\n",
    "        x = str(titles[i])\n",
    "        t = x.find(\"</span>\")\n",
    "        x = x[t+len(\"</span>\"):]\n",
    "        n = x.find(\"\\n\")\n",
    "        x = x[:n]\n",
    "    \n",
    "        # Review Extraction\n",
    "        r = str(reviews[i])\n",
    "        e = r.find('<span class=\"review-rating\">')\n",
    "        r=r[e+len('<span class=\"review-rating\">'):]\n",
    "        r = r[:3]\n",
    "        r = float(r)\n",
    "        \n",
    "        # Number of Reviews Extraction\n",
    "        b = num_reviews[i]\n",
    "        b = str(b)\n",
    "        k = b.find(\">\")\n",
    "        b = b[k+2:]\n",
    "        s = b.find(\" \")\n",
    "        b = b[:s]\n",
    "        b= int(b)\n",
    "    \n",
    "        # Data Extraction\n",
    "        title_names[x] = r,b\n",
    "    File.close()\n",
    "    return title_names"
   ]
  },
  {
   "cell_type": "code",
   "execution_count": 3,
   "metadata": {},
   "outputs": [],
   "source": [
    "def build_data():\n",
    "    \"\"\"Builds a pandas dataframe using the \n",
    "    HTML files in the directory and pickles the dataframe to the disk\n",
    "    \n",
    "    RETURNS: DataFrame\n",
    "    NOTE: Will Create a file on local drive\n",
    "    \"\"\"\n",
    "    print(\"initializaing...\")\n",
    "    data = {}\n",
    "    for i in range(0,38):\n",
    "        if i%10==0:\n",
    "            print('building ...') \n",
    "        i = str(i)\n",
    "        data.update(extract_data(i))\n",
    "            \n",
    "    df = pd.DataFrame.from_dict(data,orient='index')\n",
    "    df = df.reset_index()\n",
    "    df.columns = ['Show','Rating','Num Reviews']\n",
    "    print(\"Saving Data Structure to Drive...\")\n",
    "    file = \"Viki_HTML_data.pkl\"\n",
    "    pickle.dump(df,open(file,'wb'))   \n",
    "    print(\"Complete!\")\n",
    "    return df"
   ]
  },
  {
   "cell_type": "code",
   "execution_count": null,
   "metadata": {},
   "outputs": [],
   "source": []
  }
 ],
 "metadata": {
  "kernelspec": {
   "display_name": "Python 3",
   "language": "python",
   "name": "python3"
  },
  "language_info": {
   "codemirror_mode": {
    "name": "ipython",
    "version": 3
   },
   "file_extension": ".py",
   "mimetype": "text/x-python",
   "name": "python",
   "nbconvert_exporter": "python",
   "pygments_lexer": "ipython3",
   "version": "3.5.2"
  }
 },
 "nbformat": 4,
 "nbformat_minor": 2
}
